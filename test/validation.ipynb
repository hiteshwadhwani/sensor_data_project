{
 "cells": [
  {
   "cell_type": "code",
   "execution_count": 8,
   "metadata": {},
   "outputs": [],
   "source": [
    "# ref - https://docs.scipy.org/doc/scipy/reference/generated/scipy.stats.ks_2samp.html\n",
    "\n",
    "import numpy as np\n",
    "from scipy import stats\n",
    "rng = np.random.default_rng()\n",
    "sample1 = stats.uniform.rvs(size=100, random_state=rng)\n",
    "sample2 = stats.norm.rvs(size=110, random_state=rng)\n",
    "responce = stats.ks_2samp(sample1, sample2)"
   ]
  },
  {
   "cell_type": "code",
   "execution_count": 7,
   "metadata": {},
   "outputs": [
    {
     "name": "stdout",
     "output_type": "stream",
     "text": [
      "reject null hypothesis, both dataset dont belong to same distribution\n"
     ]
    }
   ],
   "source": [
    "if responce.pvalue > 0.05:\n",
    "    print(\"failed to reject null hypothesis, both dataset belong to same distribution\")\n",
    "else:\n",
    "    print(\"reject null hypothesis, both dataset dont belong to same distribution\")"
   ]
  },
  {
   "cell_type": "code",
   "execution_count": 1,
   "metadata": {},
   "outputs": [],
   "source": [
    "# anomoly detection in dataset\n",
    "# 1) high null values\n",
    "# 2) Not enough column, missing column\n",
    "# 3) so much outlier\n",
    "# 4) different values in new dataset (EX - olddataset = gender -> male, female\n",
    "#                                    new dataset = gender -> male, female, other)\n"
   ]
  },
  {
   "cell_type": "code",
   "execution_count": 2,
   "metadata": {},
   "outputs": [
    {
     "data": {
      "text/plain": [
       "\"\\nModel drift is the decay of models' predictive power as a result of the changes in real world environments.\\nIt is caused due to a variety of reasons including changes in the digital environment and ensuing changes in relationship between variables.\\n\""
      ]
     },
     "execution_count": 2,
     "metadata": {},
     "output_type": "execute_result"
    }
   ],
   "source": [
    "'''\n",
    "Model drift is the decay of models' predictive power as a result of the changes in real world environments.\n",
    "It is caused due to a variety of reasons including changes in the digital environment and ensuing changes in relationship between variables.\n",
    "'''"
   ]
  },
  {
   "cell_type": "markdown",
   "metadata": {},
   "source": [
    "#### drift in machine learning\n",
    "- https://towardsdatascience.com/drift-in-machine-learning-e49df46803a"
   ]
  },
  {
   "cell_type": "code",
   "execution_count": null,
   "metadata": {},
   "outputs": [],
   "source": []
  }
 ],
 "metadata": {
  "kernelspec": {
   "display_name": "Python 3.8.10 64-bit",
   "language": "python",
   "name": "python3"
  },
  "language_info": {
   "codemirror_mode": {
    "name": "ipython",
    "version": 3
   },
   "file_extension": ".py",
   "mimetype": "text/x-python",
   "name": "python",
   "nbconvert_exporter": "python",
   "pygments_lexer": "ipython3",
   "version": "3.8.10"
  },
  "orig_nbformat": 4,
  "vscode": {
   "interpreter": {
    "hash": "e7370f93d1d0cde622a1f8e1c04877d8463912d04d973331ad4851f04de6915a"
   }
  }
 },
 "nbformat": 4,
 "nbformat_minor": 2
}
